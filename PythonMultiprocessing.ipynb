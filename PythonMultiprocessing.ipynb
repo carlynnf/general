{
 "cells": [
  {
   "cell_type": "markdown",
   "metadata": {
    "nbpresent": {
     "id": "07a91dd3-2b59-47e3-9fd4-bf4cd86ada97"
    }
   },
   "source": [
    "# Python Multithreading and Multiprocessing\n",
    "#### Sheridan B. Green"
   ]
  },
  {
   "cell_type": "markdown",
   "metadata": {
    "nbpresent": {
     "id": "d2991668-6cbc-442b-884e-c914a559336b"
    }
   },
   "source": [
    "## Threads vs. Processes\n",
    "* **Process**\n",
    "    * Executing instance of an application\n",
    "    * Used for “heavyweight” tasks\n",
    "    * Has its own memory space\n",
    "    * Independent of other processes\n",
    "    * **Contains** at least one thread\n",
    "    \n",
    "    \n",
    "* **Thread**\n",
    "    * Used for “lightweight” subroutines of a program\n",
    "    * Share memory address space with other threads of same process\n",
    "    * Can read and write to data structures & variables from sibling threads\n",
    "    * Each thread associated with a different task of the parent program process\n",
    "    \n",
    "    \n",
    "* Multithreaded applications must be programmed carefully to avoid threads “stepping on each other”\n",
    "\n",
    "\n",
    "* Implemented in Python via the **threading** and **multiprocessing** modules\n",
    "    * multiprocessing.dummy is identical to multiprocessing but replaces processes with threads\n"
   ]
  },
  {
   "cell_type": "markdown",
   "metadata": {
    "nbpresent": {
     "id": "7ecfb1f5-6fb4-4117-9324-c450b953aa27"
    }
   },
   "source": [
    "## threading module\n",
    "`import threading`\n",
    "* **Pros:**\n",
    "    * Simple to run any callable function in its own thread\n",
    "    * Sharing data is fairly simple between threads\n",
    "    * Useful for I/O bound tasks (networking, writing to disk, and so on)\n",
    "* **Cons:**\n",
    "    * Python Global Interpreter Lock (GIL)\n",
    "        * Only one thread can execute at a time\n",
    "        * Helps avoid sharing code that is non-thread safe amongst other threads\n",
    "        * Prevents parallel threads from stepping on each other\n",
    "\n",
    "**Result**: In Python, the best way to do concurrent computations is through **parallel processes**, rather than threads."
   ]
  },
  {
   "cell_type": "markdown",
   "metadata": {
    "nbpresent": {
     "id": "41866f6f-1007-4053-b913-0c320b616a78"
    }
   },
   "source": [
    "## multiprocessing module\n",
    "`import multiprocessing`\n",
    "\n",
    "* **Pros:**\n",
    "    * Actual concurrency for all tasks (meaning no GIL)\n",
    "    * Takes full advantage of **multicore systems**, and can even span *multiple machines*\n",
    "    * Can be used to take advantage of high-throughput cluster computing i.e. Killdevil/Kure\n",
    "* **Cons:**\n",
    "    * Individually, processes are slower than threads\n",
    "        * **multiprocessing** remains faster than **threading** due to GIL (in Python!)\n",
    "    * Data sharing between processes is more difficult than with threads\n",
    "        * multiprocessing is better for asynchronous tasks, i.e. those which do not require data from one another\n",
    "    \n",
    "Ultimately, we’ll focus on the **multiprocessing module** for this tutorial since **we all have multi-core processors and should take advantage of them!**\n"
   ]
  },
  {
   "cell_type": "markdown",
   "metadata": {
    "nbpresent": {
     "id": "d8a040fa-ed0d-4740-874d-3f1cf0bb1241"
    }
   },
   "source": [
    "## Basic Example\n",
    "\n",
    "The basic example of how to use the `multiprocessing` module  creates tasks assigned to separate cores using the Process object. Each Process object is given the `target` which is the function to be ran, as well as the necessary parameters `args`.\n",
    "\n",
    "These processes are ran asynchronously and their results may not necessarily be in order at the end. This method requires more organization than is necessary for most applications that we would be interested in...\n",
    "\n",
    "### Note:\n",
    "The `if __name__ == '__main__':` line is crucial when using `multiprocessing`. \n",
    "\n",
    "\n",
    "For those who have written code in Java, C/C++, or any other language which uses `main` functions, this should be familiar. The user first initializes this code directly and the code in `__main__` is ran. However, `multiprocessing` will iteratively call this code segment when referencing the function `funSquare` definition.\n",
    "\n",
    "To only have the `__main__` part ran once, it must be within the `if` statement. \n",
    "\n",
    "An alternative solution is to define the functions of interest in a separate file and then `import` them."
   ]
  },
  {
   "cell_type": "code",
   "execution_count": 18,
   "metadata": {
    "collapsed": false,
    "nbpresent": {
     "id": "335c80a8-eb32-49a7-93bc-f0b2658fba2e"
    }
   },
   "outputs": [
    {
     "name": "stdout",
     "output_type": "stream",
     "text": [
      "1\n",
      "0\n",
      "4\n",
      "9\n",
      "16\n"
     ]
    }
   ],
   "source": [
    "import multiprocessing\n",
    "\n",
    "def funSquare(num):\n",
    "    print num ** 2\n",
    "    return\n",
    "\n",
    "if __name__ == '__main__':\n",
    "    jobs = []\n",
    "    for i in range(5):\n",
    "        p = multiprocessing.Process(target=funSquare, args=(i,))\n",
    "        jobs.append(p)\n",
    "        p.start()"
   ]
  },
  {
   "cell_type": "markdown",
   "metadata": {
    "nbpresent": {
     "id": "9d6ad27f-61bd-4d67-bc41-1ffebf4bbcf5"
    }
   },
   "source": [
    "## Introducing Pool and Pool.map\n",
    "\n",
    "The **Pool** class contained within `multiprocessing`, i.e. `multiprocessing.Pool`, is used to control a pool of worker processes.\n",
    "\n",
    "Instead of submitting and starting each successive job in the fashion used above, one can submit an entire suite of jobs at once to the worker pool and let `multiprocessing` handle the distribution of tasks. \n",
    "\n",
    "`multiprocessing.Pool()` initializes the worker process pool. The number of worker processes is defaulted to the number of cores in the CPU. However, the class initialization takes an optional integer argument of the number of worker processes desired. **This could be useful in high throughput computing (HPC) contexts.**\n",
    "\n",
    "The example below is quite simple: First, the worker process pool is initialized, here as `pool`. Second, the `pool.map()` method is called. This method applies a specified function across each element in an *iterable* and returns the results, **in the same order as the values of the iterable.** \n",
    "\n",
    "For example, we give the process pool a list of numbers and tell it to square all of them, return the squared values in a list."
   ]
  },
  {
   "cell_type": "code",
   "execution_count": 20,
   "metadata": {
    "collapsed": false,
    "nbpresent": {
     "id": "6161da9f-f9ea-4334-b286-7819b4415292"
    }
   },
   "outputs": [
    {
     "name": "stdout",
     "output_type": "stream",
     "text": [
      "[0, 1, 4, 9, 16, 25, 36, 49, 64, 81]\n"
     ]
    }
   ],
   "source": [
    "import multiprocessing\n",
    "\n",
    "def funSquare(num):\n",
    "    return num ** 2\n",
    "\n",
    "if __name__ == '__main__':\n",
    "    pool = multiprocessing.Pool() #initializes N workers, where N = # of CPU cores\n",
    "    results = pool.map(funSquare, range(10))\n",
    "    print(results)"
   ]
  },
  {
   "cell_type": "markdown",
   "metadata": {
    "nbpresent": {
     "id": "a7288750-a511-45a0-b643-f19e16593305"
    }
   },
   "source": [
    "## More Detailed Example\n",
    "\n",
    "In the case below, we define a simple \"simulation\" in the function `runSimulation(params)` which takes an object and performs some calculation using the various parameters, returning an array.\n",
    "\n",
    "The crucial advancement in this implementation compared to the previous one is the introduction of a zipped set of parameters. In the `__main__` initialization of the code, two separate parameters to be swept over, `param1` and `param2`, are defined as arrays. `pool.map()` only takes **one** iterable object, so the built-in Python function `zip()` can be used to construct a single tuple object from multiple lists.\n",
    "\n",
    "The same procedure as above is then used, first initializing the worker process pool and then giving pool.map() the arguments corresponding to the function and the parameter tuple. The worker function runSimulation() then unpacks the zipped tuple as `param1, param2 = params`, **very simple!**\n",
    "\n",
    "**This will return a list of the output arrays from the function in the same order as the input parameters.**\n",
    "\n",
    "### Note:\n",
    "\n",
    "In this case, we are giving as the parameter sets of **pairs**, not simply two arrays to be looped over individually. More careful thought would be needed in order to effectively use `pool.map()` to search over two individual parameter spaces. A simple first-order approach would be to generate an array corresponding to **every possible combination** of the two parameters, send that as the parameter tuple to `pool.map()` and then use `numpy` to reshape the final output array.\n",
    "\n",
    "### Warning:\n",
    "\n",
    "Jupyter notebooks do not handle the complete use of all cores on the computer very well. I had to deal with several complete freezes of my computer while testing this code out. Perhaps try using `multiprocessing.Pool(N-1)`, where N is the number of cores in your processor. This way you should be guaranteed to have one free core for regular computer processing while your code is running. Ideally, this will prevent hang-ups."
   ]
  },
  {
   "cell_type": "code",
   "execution_count": 2,
   "metadata": {
    "collapsed": false,
    "nbpresent": {
     "id": "9f73c48f-aedc-4900-9982-8fcebc5f3957"
    }
   },
   "outputs": [],
   "source": [
    "import multiprocessing\n",
    "import numpy as np\n",
    "\n",
    "def runSimulation(params):\n",
    "    \"\"\"This is the main processing function. It will contain whatever\n",
    "    code should be run on multiple processors.\n",
    "    \n",
    "    \"\"\"\n",
    "    param1, param2 = params\n",
    "    # Example computation\n",
    "    processedData = []\n",
    "    for ctr in range(10000):\n",
    "        processedData.append(param1 * ctr - param2 ** 2)\n",
    "\n",
    "    return processedData\n",
    "\n",
    "if __name__ == '__main__':\n",
    "    # Define the parameters to test\n",
    "    param1 = range(100)\n",
    "    param2 = range(2, 202, 2)\n",
    "\n",
    "    # Zip the parameters because pool.map() takes only one iterable\n",
    "    params = zip(param1, param2)\n",
    "\n",
    "    pool = multiprocessing.Pool()\n",
    "    results = pool.map(runSimulation, params)\n"
   ]
  },
  {
   "cell_type": "markdown",
   "metadata": {
    "nbpresent": {
     "id": "097a0954-3fae-4607-85bc-58c143e2ef39"
    }
   },
   "source": [
    "## Using Objects\n",
    "\n",
    "We briefly note that a class can be used to instantiate objects which can encapsulate several different parameters and methods and then passed through to the function of interest with `pool.map()`.\n",
    "\n",
    "### Note:\n",
    "We implement two loops across the two parameters in order to create a list of all possible combinations of the two parameters, as introduced in the note above the previous code block."
   ]
  },
  {
   "cell_type": "code",
   "execution_count": 1,
   "metadata": {
    "collapsed": false,
    "nbpresent": {
     "id": "b29f965c-2418-485e-af41-bf48251641f1"
    }
   },
   "outputs": [],
   "source": [
    "import multiprocessing\n",
    "import numpy as np\n",
    "\n",
    "class simObject():\n",
    "    def __init__(self, params):\n",
    "        self.param1, self.param2 = params\n",
    "\n",
    "def runSimulation(objInstance):\n",
    "    \"\"\"This is the main processing function. It will contain whatever\n",
    "    code should be run on multiple processors.\n",
    "    \n",
    "    \"\"\"\n",
    "    param1, param2 = objInstance.param1, objInstance.param2\n",
    "    # Example computation\n",
    "    processedData = []\n",
    "    for ctr in range(100):\n",
    "        processedData.append(param1 * ctr - param2 ** 2)\n",
    "\n",
    "    return processedData\n",
    "\n",
    "if __name__ == '__main__':\n",
    "    # Define the parameters to test\n",
    "    param1 = range(10)\n",
    "    param2 = range(2, 202, 2)\n",
    "\n",
    "    objList = []\n",
    "    # Create a list of objects to feed into pool.map()\n",
    "    for p1 in param1:\n",
    "        for p2 in param2:\n",
    "            objList.append(simObject((p1, p2)))\n",
    "\n",
    "    pool = multiprocessing.Pool()\n",
    "    results = pool.map(runSimulation, objList)"
   ]
  },
  {
   "cell_type": "markdown",
   "metadata": {
    "nbpresent": {
     "id": "5905e10d-8dd8-49eb-bd62-0259a9a74f54"
    }
   },
   "source": [
    "## Time Comparisons\n",
    "\n",
    "By running the function across our parameter set using `pool.map()` as well as the built-in Python function `map()` which takes the same arguments, we can compare the total CPU time used by each. The Python `time` module has a routine called `time.clock()` which can be used to get the current CPU time. By comparing the difference between two CPU times, we can look at the total time used in a code block.\n",
    "\n",
    "For my four-core laptop, the non-parallelized version of the code runs slower by approximately a factof of 4, as we would expect!"
   ]
  },
  {
   "cell_type": "code",
   "execution_count": 9,
   "metadata": {
    "collapsed": false,
    "nbpresent": {
     "id": "ffaf5fba-7339-45e8-84a6-dbd900feeb3a"
    }
   },
   "outputs": [
    {
     "name": "stdout",
     "output_type": "stream",
     "text": [
      "Parallel processing time: 1.246099000000001\n",
      "Serial processing time: 4.796491000000003\n",
      "Speedup factor: 3.849205400212984\n"
     ]
    }
   ],
   "source": [
    "import multiprocessing\n",
    "import time\n",
    "\n",
    "def runSimulation(params):\n",
    "    \"\"\"This is the main processing function. It will contain whatever\n",
    "    code should be run on multiple processors.\n",
    "    \n",
    "    \"\"\"\n",
    "    param1, param2 = params\n",
    "    # Example computation\n",
    "    processedData = []\n",
    "    for ctr in range(100000):\n",
    "        processedData.append(param1 * ctr - param2 ** 2)\n",
    "\n",
    "    return processedData\n",
    "\n",
    "if __name__ == '__main__':\n",
    "    # Define the parameters to test\n",
    "    param1 = range(100)\n",
    "    param2 = range(2, 202, 2)\n",
    "\n",
    "    params = zip(param1, param2)\n",
    "\n",
    "    pool = multiprocessing.Pool()\n",
    "\n",
    "    # Parallel map\n",
    "    tic = time.clock()\n",
    "    results = pool.map(runSimulation, params)\n",
    "    toc = time.clock()\n",
    "\n",
    "    # Serial map\n",
    "    tic2 = time.clock()\n",
    "    results = map(runSimulation, params)\n",
    "    toc2 = time.clock()\n",
    "\n",
    "    print('Parallel processing time: %r\\nSerial processing time: %r'\n",
    "          % (toc - tic, toc2 - tic2))\n",
    "    \n",
    "    print('Speedup factor: %r') % ((toc2-tic2)/(toc-tic))"
   ]
  },
  {
   "cell_type": "markdown",
   "metadata": {
    "nbpresent": {
     "id": "a900e870-7c09-4f1c-b69a-28e9ac0776f4"
    }
   },
   "source": [
    "## Usage Ideas\n",
    "\n",
    "Among many other uses, `multiprocessing` can be easily employed to replace any computationally intensive loop that is used where the individual computations occuring inside each iteration in the loop do not depend on computations elsewhere in the loop. A problem of this type can utilize **asynchronous parallel processing.**\n",
    "\n",
    "Two simple examples relevant to astrostatisics:\n",
    "* Calculation of posterior distributions in a Bayesian model\n",
    "* Monte Carlo sampling of a parameter space (**not MCMC, as this requires knowledge of the previous step**)\n",
    "\n",
    "**With only a couple simple lines, you can drastically speed up any Python code which involves large amounts of asynchronous calculations. The benefits from this are too big to pass up!**"
   ]
  },
  {
   "cell_type": "markdown",
   "metadata": {
    "nbpresent": {
     "id": "cb8ad447-46cd-4f7e-80d9-2602d6d05d03"
    }
   },
   "source": [
    "## References and Helpful Links\n",
    "\n",
    "### Primary code tutorial adapted from:\n",
    "http://kmdouglass.github.io/posts/learning-pythons-multiprocessing-module.html\n",
    "\n",
    "### More rigorous explanation of the multiprocessing.Process() method:\n",
    "https://pymotw.com/2/multiprocessing/basics.html\n",
    "\n",
    "### Extremely simple alternative explanation of Pool.map():\n",
    "http://chriskiehl.com/article/parallelism-in-one-line/\n",
    "\n",
    "### Pros and cons of multithreading and multiprocessing in Python (Stack Exchange):\n",
    "http://stackoverflow.com/questions/1190206/threading-in-python\n",
    "\n",
    "### Official multiprocessing documentation from the Python documentation site:\n",
    "https://docs.python.org/2/library/multiprocessing.html\n",
    "\n",
    "### One last method of asynchronously utilizing multiprocessing.Pool():\n",
    "http://pyinsci.blogspot.com/2009/02/usage-pattern-for-multiprocessing.html\n",
    "\n",
    "### Documentation and list of official included Python functions, such as map(), zip():\n",
    "https://docs.python.org/3/library/functions.html\n"
   ]
  },
  {
   "cell_type": "code",
   "execution_count": null,
   "metadata": {
    "collapsed": true,
    "nbpresent": {
     "id": "b71c76c8-c970-4f7b-88da-28d20d86573e"
    }
   },
   "outputs": [],
   "source": []
  }
 ],
 "metadata": {
  "anaconda-cloud": {},
  "kernelspec": {
   "display_name": "Python [conda root]",
   "language": "python",
   "name": "conda-root-py"
  },
  "language_info": {
   "codemirror_mode": {
    "name": "ipython",
    "version": 2
   },
   "file_extension": ".py",
   "mimetype": "text/x-python",
   "name": "python",
   "nbconvert_exporter": "python",
   "pygments_lexer": "ipython2",
   "version": "2.7.12"
  },
  "nbpresent": {
   "slides": {
    "0a916e86-4b23-41ac-a861-eb26c5a85500": {
     "id": "0a916e86-4b23-41ac-a861-eb26c5a85500",
     "prev": "6d107a97-136a-4246-8e93-c0f04f25e641",
     "regions": {
      "81045f00-0685-4b1c-a43a-97130aa39c44": {
       "attrs": {
        "height": 0.8,
        "width": 0.8,
        "x": 0.1,
        "y": 0.1
       },
       "content": {
        "cell": "d2991668-6cbc-442b-884e-c914a559336b",
        "part": "whole"
       },
       "id": "81045f00-0685-4b1c-a43a-97130aa39c44"
      }
     }
    },
    "130209cf-3f9d-43d5-b38d-84193e5e5bdf": {
     "id": "130209cf-3f9d-43d5-b38d-84193e5e5bdf",
     "prev": "c1ddce01-dd5b-40af-bce7-026280dbd2e6",
     "regions": {
      "2196829a-cc57-46aa-87b0-350ff2a6045c": {
       "attrs": {
        "height": 0.8,
        "width": 0.8,
        "x": 0.1,
        "y": 0.1
       },
       "content": {
        "cell": "5905e10d-8dd8-49eb-bd62-0259a9a74f54",
        "part": "whole"
       },
       "id": "2196829a-cc57-46aa-87b0-350ff2a6045c"
      }
     }
    },
    "17c8cfd3-0b42-4813-836c-34e15505a209": {
     "id": "17c8cfd3-0b42-4813-836c-34e15505a209",
     "prev": "caa9d7fa-c12f-4ed8-8d36-d6758a99f45b",
     "regions": {
      "826054ad-c543-4476-8c64-6287f43e97f7": {
       "attrs": {
        "height": 0.8,
        "width": 0.8,
        "x": 0.1,
        "y": 0.1
       },
       "content": {
        "cell": "9f73c48f-aedc-4900-9982-8fcebc5f3957",
        "part": "whole"
       },
       "id": "826054ad-c543-4476-8c64-6287f43e97f7"
      }
     }
    },
    "1dc553d5-2c14-4107-b655-84ed0af9fa59": {
     "id": "1dc553d5-2c14-4107-b655-84ed0af9fa59",
     "prev": "17c8cfd3-0b42-4813-836c-34e15505a209",
     "regions": {
      "ab89beea-64a5-4d46-a012-c4ae785251c5": {
       "attrs": {
        "height": 0.8,
        "width": 0.8,
        "x": 0.1,
        "y": 0.1
       },
       "content": {
        "cell": "097a0954-3fae-4607-85bc-58c143e2ef39",
        "part": "whole"
       },
       "id": "ab89beea-64a5-4d46-a012-c4ae785251c5"
      }
     }
    },
    "567d1d74-d240-4667-95b3-ee58dc3aa7ca": {
     "id": "567d1d74-d240-4667-95b3-ee58dc3aa7ca",
     "prev": "0a916e86-4b23-41ac-a861-eb26c5a85500",
     "regions": {
      "5dda0ca8-945f-4827-a857-c2e9dbbb6624": {
       "attrs": {
        "height": 0.8,
        "width": 0.8,
        "x": 0.1,
        "y": 0.1
       },
       "content": {
        "cell": "7ecfb1f5-6fb4-4117-9324-c450b953aa27",
        "part": "whole"
       },
       "id": "5dda0ca8-945f-4827-a857-c2e9dbbb6624"
      }
     }
    },
    "5e125b3b-9916-4207-abd2-bd2cfb7fcb75": {
     "id": "5e125b3b-9916-4207-abd2-bd2cfb7fcb75",
     "prev": "567d1d74-d240-4667-95b3-ee58dc3aa7ca",
     "regions": {
      "922c59f2-e053-4321-908b-abf34ca5baa3": {
       "attrs": {
        "height": 0.8,
        "width": 0.8,
        "x": 0.1,
        "y": 0.1
       },
       "content": {
        "cell": "41866f6f-1007-4053-b913-0c320b616a78",
        "part": "whole"
       },
       "id": "922c59f2-e053-4321-908b-abf34ca5baa3"
      }
     }
    },
    "6d107a97-136a-4246-8e93-c0f04f25e641": {
     "id": "6d107a97-136a-4246-8e93-c0f04f25e641",
     "prev": null,
     "regions": {
      "ac838b8c-e11b-46e1-8205-5b6e1a7f7544": {
       "attrs": {
        "height": 0.8,
        "width": 0.8,
        "x": 0.1,
        "y": 0.1
       },
       "content": {
        "cell": "07a91dd3-2b59-47e3-9fd4-bf4cd86ada97",
        "part": "whole"
       },
       "id": "ac838b8c-e11b-46e1-8205-5b6e1a7f7544"
      }
     }
    },
    "75721a17-5dde-406e-bd31-8d0b509b37ee": {
     "id": "75721a17-5dde-406e-bd31-8d0b509b37ee",
     "prev": "de6b7e31-8878-491b-b4bf-b13e56c8e07f",
     "regions": {
      "17b1e423-2b30-45e1-97ac-48a7c2c461ea": {
       "attrs": {
        "height": 0.8,
        "width": 0.8,
        "x": 0.1,
        "y": 0.1
       },
       "content": {
        "cell": "6161da9f-f9ea-4334-b286-7819b4415292",
        "part": "whole"
       },
       "id": "17b1e423-2b30-45e1-97ac-48a7c2c461ea"
      }
     }
    },
    "8afa9cf8-0c86-4054-b22d-d1763aed4fd3": {
     "id": "8afa9cf8-0c86-4054-b22d-d1763aed4fd3",
     "prev": "8f08777a-94e8-4abc-b20e-8ef84c723bbb",
     "regions": {
      "7e030a0a-5c47-4abc-b90d-5f5255889824": {
       "attrs": {
        "height": 0.8,
        "width": 0.8,
        "x": 0.1,
        "y": 0.1
       },
       "content": {
        "cell": "a900e870-7c09-4f1c-b69a-28e9ac0776f4",
        "part": "whole"
       },
       "id": "7e030a0a-5c47-4abc-b90d-5f5255889824"
      }
     }
    },
    "8d50c134-2404-42a8-97ce-9dc2ccd8104b": {
     "id": "8d50c134-2404-42a8-97ce-9dc2ccd8104b",
     "prev": "fa0bc2ca-2401-42d5-bf5f-8a0f30bbd94b",
     "regions": {
      "020cb0fb-444f-4735-a6e7-60824ccaeae7": {
       "attrs": {
        "height": 0.8,
        "width": 0.8,
        "x": 0.1,
        "y": 0.1
       },
       "content": {
        "cell": "b71c76c8-c970-4f7b-88da-28d20d86573e",
        "part": "whole"
       },
       "id": "020cb0fb-444f-4735-a6e7-60824ccaeae7"
      }
     }
    },
    "8f08777a-94e8-4abc-b20e-8ef84c723bbb": {
     "id": "8f08777a-94e8-4abc-b20e-8ef84c723bbb",
     "prev": "130209cf-3f9d-43d5-b38d-84193e5e5bdf",
     "regions": {
      "96b8cfee-2138-4e59-9ec2-0bd2d126ad06": {
       "attrs": {
        "height": 0.8,
        "width": 0.8,
        "x": 0.1,
        "y": 0.1
       },
       "content": {
        "cell": "ffaf5fba-7339-45e8-84a6-dbd900feeb3a",
        "part": "whole"
       },
       "id": "96b8cfee-2138-4e59-9ec2-0bd2d126ad06"
      }
     }
    },
    "c1ddce01-dd5b-40af-bce7-026280dbd2e6": {
     "id": "c1ddce01-dd5b-40af-bce7-026280dbd2e6",
     "prev": "1dc553d5-2c14-4107-b655-84ed0af9fa59",
     "regions": {
      "e59a3041-33aa-42fe-9a48-8d71ffa7b3d1": {
       "attrs": {
        "height": 0.8,
        "width": 0.8,
        "x": 0.1,
        "y": 0.1
       },
       "content": {
        "cell": "b29f965c-2418-485e-af41-bf48251641f1",
        "part": "whole"
       },
       "id": "e59a3041-33aa-42fe-9a48-8d71ffa7b3d1"
      }
     }
    },
    "caa9d7fa-c12f-4ed8-8d36-d6758a99f45b": {
     "id": "caa9d7fa-c12f-4ed8-8d36-d6758a99f45b",
     "prev": "75721a17-5dde-406e-bd31-8d0b509b37ee",
     "regions": {
      "abfb964b-4385-43aa-af3d-84803e7b0b0b": {
       "attrs": {
        "height": 0.8,
        "width": 0.8,
        "x": 0.1,
        "y": 0.1
       },
       "content": {
        "cell": "a7288750-a511-45a0-b643-f19e16593305",
        "part": "whole"
       },
       "id": "abfb964b-4385-43aa-af3d-84803e7b0b0b"
      }
     }
    },
    "cf8baab5-cb5b-4f40-88a7-ae54dd8f4dc5": {
     "id": "cf8baab5-cb5b-4f40-88a7-ae54dd8f4dc5",
     "prev": "e8d3d80c-d279-4918-93e2-5ba931eeba34",
     "regions": {
      "604f3186-b699-47ec-9b11-1bb7b52a8407": {
       "attrs": {
        "height": 0.8,
        "width": 0.8,
        "x": 0.1,
        "y": 0.1
       },
       "content": {
        "cell": "335c80a8-eb32-49a7-93bc-f0b2658fba2e",
        "part": "whole"
       },
       "id": "604f3186-b699-47ec-9b11-1bb7b52a8407"
      }
     }
    },
    "de6b7e31-8878-491b-b4bf-b13e56c8e07f": {
     "id": "de6b7e31-8878-491b-b4bf-b13e56c8e07f",
     "prev": "cf8baab5-cb5b-4f40-88a7-ae54dd8f4dc5",
     "regions": {
      "b30d48ed-ec67-40c8-8504-39b8c5a2e341": {
       "attrs": {
        "height": 0.8,
        "width": 0.8,
        "x": 0.1,
        "y": 0.1
       },
       "content": {
        "cell": "9d6ad27f-61bd-4d67-bc41-1ffebf4bbcf5",
        "part": "whole"
       },
       "id": "b30d48ed-ec67-40c8-8504-39b8c5a2e341"
      }
     }
    },
    "e8d3d80c-d279-4918-93e2-5ba931eeba34": {
     "id": "e8d3d80c-d279-4918-93e2-5ba931eeba34",
     "prev": "5e125b3b-9916-4207-abd2-bd2cfb7fcb75",
     "regions": {
      "66b857e9-8d33-4be4-853b-7e86bb8aae4c": {
       "attrs": {
        "height": 0.8,
        "width": 0.8,
        "x": 0.1,
        "y": 0.1
       },
       "content": {
        "cell": "d8a040fa-ed0d-4740-874d-3f1cf0bb1241",
        "part": "whole"
       },
       "id": "66b857e9-8d33-4be4-853b-7e86bb8aae4c"
      }
     }
    },
    "fa0bc2ca-2401-42d5-bf5f-8a0f30bbd94b": {
     "id": "fa0bc2ca-2401-42d5-bf5f-8a0f30bbd94b",
     "prev": "8afa9cf8-0c86-4054-b22d-d1763aed4fd3",
     "regions": {
      "1d816638-975c-47f2-beb9-c9a945a06837": {
       "attrs": {
        "height": 0.8,
        "width": 0.8,
        "x": 0.1,
        "y": 0.1
       },
       "content": {
        "cell": "cb8ad447-46cd-4f7e-80d9-2602d6d05d03",
        "part": "whole"
       },
       "id": "1d816638-975c-47f2-beb9-c9a945a06837"
      }
     }
    }
   },
   "themes": {}
  }
 },
 "nbformat": 4,
 "nbformat_minor": 1
}
