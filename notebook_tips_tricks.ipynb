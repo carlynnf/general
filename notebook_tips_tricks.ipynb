{
 "cells": [
  {
   "cell_type": "markdown",
   "metadata": {
    "collapsed": true,
    "nbpresent": {
     "id": "0b33856d-162c-4384-9d05-64e94c45de98"
    }
   },
   "source": [
    "# Jupyter notebook tips and tricks\n",
    "\n",
    "## Getting around the notebook\n",
    "\n",
    "1. Edit mode vs. command mode\n",
    "\n",
    "\n",
    "    Enter: edit mode, Esc: command mode.\n",
    "    \n",
    "2. Keyboard shortcuts\n",
    "\n",
    "\n",
    "    Basic navigation: enter, shift-enter, up/k, down/j\n",
    "    Saving the notebook: s\n",
    "    Change Cell types: y, m, 1-6, t\n",
    "    Cell creation: a, b\n",
    "    Cell editing: x, c, v, d, z\n",
    "    Kernel operations: i, 0 (press twice)"
   ]
  },
  {
   "cell_type": "markdown",
   "metadata": {
    "nbpresent": {
     "id": "0f80e295-c88d-48af-b0bc-00c82b08da60"
    }
   },
   "source": [
    "## Converting notebooks\n",
    "\n",
    "Use `jupyter nbconvert` in the terminal, or `File -> Download as`\n",
    "\n",
    "### Examples\n",
    "    \n",
    "    You can specify the export format with `--to`.\n",
    "    Options include ['custom', 'html', 'latex', 'markdown', 'notebook', 'pdf', 'python', 'rst', 'script', 'slides']\n",
    "    \n",
    "    > jupyter nbconvert --to latex mynotebook.ipynb\n",
    "    \n",
    "    Both HTML and LaTeX support multiple output templates. LaTeX includes\n",
    "    'base', 'article' and 'report'.  HTML includes 'basic' and 'full'. You\n",
    "    can specify the flavor of the format used.\n",
    "    \n",
    "    > jupyter nbconvert --to html --template basic mynotebook.ipynb\n",
    "    \n",
    "    You can also pipe the output to stdout, rather than a file\n",
    "    \n",
    "    > jupyter nbconvert mynotebook.ipynb --stdout\n",
    "    \n",
    "    PDF is generated via latex\n",
    "    \n",
    "    > jupyter nbconvert mynotebook.ipynb --to pdf\n",
    "    \n",
    "    You can get (and serve) a Reveal.js-powered slideshow\n",
    "    \n",
    "    > jupyter nbconvert myslides.ipynb --to slides --post serve\n",
    "\n",
    "\n",
    "See `jupyter nbconvert --help` for more details"
   ]
  },
  {
   "cell_type": "markdown",
   "metadata": {
    "nbpresent": {
     "id": "17afd872-a010-479a-8515-d4604dcc2ce0"
    }
   },
   "source": [
    "## Notebook extensions\n",
    "\n",
    "Install from anaconda using `conda install -c conda-forge jupyter_contrib_nbextensions`\n",
    "\n",
    "New tab in your jupyter notebook server home page `nbextensions`\n",
    "\n",
    "Some useful extensions:\n",
    "1. LaTeX environments for Jupyter\n",
    "2. Code Font Size\n",
    "3. Table of contents\n",
    "4. Drag and drop/rubberband\n",
    "5. Spell checker\n",
    "6. Search and replace\n",
    "\n",
    "See: http://jupyter-contrib-nbextensions.readthedocs.io/en/latest/"
   ]
  },
  {
   "cell_type": "markdown",
   "metadata": {
    "nbpresent": {
     "id": "7ec17518-1c3e-404b-8d7c-bb87ba58070b"
    }
   },
   "source": [
    "## Interactive widgets\n",
    "\n",
    "See `Lorenz Differential Equations.ipynb`"
   ]
  },
  {
   "cell_type": "markdown",
   "metadata": {
    "nbpresent": {
     "id": "88c24842-cdd3-4f6d-bced-6401b51af7ce"
    }
   },
   "source": [
    "## Embedding Images/Videos"
   ]
  },
  {
   "cell_type": "code",
   "execution_count": 8,
   "metadata": {
    "collapsed": false,
    "nbpresent": {
     "id": "05240e1c-e4ab-4f07-872c-ace95028413f"
    }
   },
   "outputs": [
    {
     "data": {
      "image/png": "[encoded data removed]",
      "text/plain": [
       "<IPython.core.display.Image object>"
      ]
     },
     "execution_count": 8,
     "metadata": {},
     "output_type": "execute_result"
    }
   ],
   "source": [
    "from IPython.display import Image\n",
    "Image('https://www.python.org/static/opengraph-icon-200x200.png')"
   ]
  },
  {
   "cell_type": "markdown",
   "metadata": {
    "nbpresent": {
     "id": "cf758ab9-d4a6-4c4c-8026-59f9bc470d40"
    }
   },
   "source": [
    "Or use Markdown: http://jupyter-notebook.readthedocs.io/en/latest/examples/Notebook/Working%20With%20Markdown%20Cells.html\n",
    "\n",
    "\n",
    "    ![Alt text](https://www.python.org/static/opengraph-icon-200x200.png \"Optional title\")\n",
    "\n",
    "![Alt text](https://www.python.org/static/opengraph-icon-200x200.png \"Optional title\")"
   ]
  },
  {
   "cell_type": "markdown",
   "metadata": {
    "nbpresent": {
     "id": "7b20c408-68c9-45f6-829f-a6953cb9d2fd"
    }
   },
   "source": [
    "\n",
    "Or HTML\n",
    "    \n",
    "    \n",
    "    <img src=\"http://i.imgur.com/favfnVF.gif\" />\n",
    "\n",
    "<img src=\"http://i.imgur.com/favfnVF.gif\" />"
   ]
  },
  {
   "cell_type": "markdown",
   "metadata": {
    "nbpresent": {
     "id": "ada393f9-2074-45f9-bd44-6ecb11aad9a9"
    }
   },
   "source": [
    "IPython display class also lets you embed audio (`display.Audio`), as well as youtube vidoes (`display.YouTubeVideo`)\n",
    "\n",
    "To use Matplotlib animations in jupyter notebooks see: http://louistiao.me/posts/notebooks/embedding-matplotlib-animations-in-jupyter-notebooks/\n",
    "\n",
    "Remember you can always use HTML using either from IPython.display import HTML, or using the %%HTML magic for other video types or "
   ]
  },
  {
   "cell_type": "markdown",
   "metadata": {
    "nbpresent": {
     "id": "5644e248-e780-4895-82bd-4881df6547d7"
    }
   },
   "source": [
    "# Interactive plotting using bokeh\n",
    "\n",
    "Number of ways to use do interactive plotting. Bokeh has an easy to use interface that can be used in a notebook. For details see: http://bokeh.pydata.org/en/latest/docs/user_guide/notebook.html\n",
    "\n",
    "See for examples\n",
    "\n",
    "1. https://demo.bokehplots.com/apps/movies\n",
    "2. https://demo.bokehplots.com/apps/surface3d\n",
    "\n",
    "You can also do basic interactive plotting in the notebook using `%matplotlib notebook` instead of `%matplotlib inline`"
   ]
  },
  {
   "cell_type": "markdown",
   "metadata": {
    "nbpresent": {
     "id": "16514bf3-cb51-4646-ae5e-12884fafcffe"
    }
   },
   "source": [
    "# Remote access\n",
    "\n",
    "Start notebook on server with \n",
    "\n",
    "    ipython notebook --no-browser --port=8889\n",
    "    \n",
    "On local machine start a SSH tunnel\n",
    "\n",
    "    ssh -N -f -L localhost:8888:localhost:8889 onyen@blarney.castle.unc.edu\n",
    "    \n",
    "Manually open the notebook server from your browser using\n",
    "\n",
    "    localhost:8888 \n",
    "    \n",
    "See https://coderwall.com/p/ohk6cg/remote-access-to-ipython-notebooks-via-ssh for details"
   ]
  },
  {
   "cell_type": "markdown",
   "metadata": {
    "nbpresent": {
     "id": "9f1c92d5-5ffd-437e-a311-616c9a35e066"
    }
   },
   "source": [
    "# Misc.\n",
    "\n",
    "https://github.com/ipython/ipython/wiki/A-gallery-of-interesting-IPython-Notebooks\n",
    "\n",
    "Notebook themes: https://github.com/dunovank/jupyter-themes\n",
    "\n",
    "Advanced magics: \n",
    "    %time & %timeit: See how long a script takes to run (one time, or averaged over a bunch of runs).\n",
    "    %prun: See how long it took each function in a script to run.\n",
    "    %lprun: See how long it took each line in a function to run.\n",
    "    %mprun & %memit: See how much memory a script uses (line-by-line, or averaged over a bunch of runs).\n",
    "\n",
    "Need to install the follwing packages to use: line-profiler, psutil, memory_profiler"
   ]
  }
 ],
 "metadata": {
  "anaconda-cloud": {},
  "kernelspec": {
   "display_name": "Python [conda env:astro]",
   "language": "python",
   "name": "conda-env-astro-py"
  },
  "language_info": {
   "codemirror_mode": {
    "name": "ipython",
    "version": 2
   },
   "file_extension": ".py",
   "mimetype": "text/x-python",
   "name": "python",
   "nbconvert_exporter": "python",
   "pygments_lexer": "ipython2",
   "version": "2.7.12"
  },
  "nbpresent": {
   "slides": {},
   "themes": {}
  }
 },
 "nbformat": 4,
 "nbformat_minor": 1
}
